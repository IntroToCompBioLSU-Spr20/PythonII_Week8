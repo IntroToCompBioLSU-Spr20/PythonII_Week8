{
 "cells": [
  {
   "cell_type": "code",
   "execution_count": 11,
   "metadata": {},
   "outputs": [],
   "source": [
    "import random"
   ]
  },
  {
   "cell_type": "code",
   "execution_count": 12,
   "metadata": {},
   "outputs": [],
   "source": [
    "from copy import copy"
   ]
  },
  {
   "cell_type": "code",
   "execution_count": 13,
   "metadata": {},
   "outputs": [],
   "source": [
    "dirs = [\"u\",\"d\",\"l\",\"r\"]"
   ]
  },
  {
   "cell_type": "code",
   "execution_count": 14,
   "metadata": {},
   "outputs": [
    {
     "data": {
      "text/plain": [
       "['u', 'd', 'l', 'r']"
      ]
     },
     "execution_count": 14,
     "metadata": {},
     "output_type": "execute_result"
    }
   ],
   "source": [
    "dirs"
   ]
  },
  {
   "cell_type": "code",
   "execution_count": 15,
   "metadata": {},
   "outputs": [],
   "source": [
    "days= 10"
   ]
  },
  {
   "cell_type": "code",
   "execution_count": 16,
   "metadata": {},
   "outputs": [
    {
     "data": {
      "text/plain": [
       "10"
      ]
     },
     "execution_count": 16,
     "metadata": {},
     "output_type": "execute_result"
    }
   ],
   "source": [
    "days"
   ]
  },
  {
   "cell_type": "code",
   "execution_count": 17,
   "metadata": {},
   "outputs": [],
   "source": [
    "pos = [0,0]"
   ]
  },
  {
   "cell_type": "code",
   "execution_count": 18,
   "metadata": {},
   "outputs": [],
   "source": [
    "posLog = []"
   ]
  },
  {
   "cell_type": "code",
   "execution_count": 19,
   "metadata": {},
   "outputs": [
    {
     "data": {
      "text/plain": [
       "[[0, 0]]"
      ]
     },
     "execution_count": 19,
     "metadata": {},
     "output_type": "execute_result"
    }
   ],
   "source": [
    "posLog.append( copy(pos) )\n",
    "posLog"
   ]
  },
  {
   "cell_type": "code",
   "execution_count": 20,
   "metadata": {},
   "outputs": [],
   "source": [
    "for move in range (10):  # Loop over the specified number of days\n",
    "    \n",
    "    move = random.choice(dirs) # Randomly draws a direction - u, d, l, or r\n",
    "    \n",
    "    if move == \"u\": # Test what direction was drawn and update position accordingly\n",
    "        pos[1] +=1\n",
    "    elif move == \"d\":\n",
    "        pos[1] -=1\n",
    "    elif move == \"l\":\n",
    "        pos[0] -=1\n",
    "    elif move == \"r\":\n",
    "        pos[0] +=1\n",
    "    else:\n",
    "        print(\"Something's wrong! Direction is not u, d, l, or r.\")\n",
    "    posLog.append( copy(pos) )"
   ]
  },
  {
   "cell_type": "code",
   "execution_count": 21,
   "metadata": {},
   "outputs": [
    {
     "data": {
      "text/plain": [
       "[[0, 0],\n",
       " [0, 1],\n",
       " [0, 2],\n",
       " [-1, 2],\n",
       " [-1, 3],\n",
       " [0, 3],\n",
       " [1, 3],\n",
       " [1, 2],\n",
       " [1, 3],\n",
       " [1, 2],\n",
       " [1, 3]]"
      ]
     },
     "execution_count": 21,
     "metadata": {},
     "output_type": "execute_result"
    }
   ],
   "source": [
    "posLog"
   ]
  },
  {
   "cell_type": "code",
   "execution_count": 22,
   "metadata": {},
   "outputs": [],
   "source": [
    "def drawMap(posLog):\n",
    "    \"\"\"Function to draw an ascii map.\"\"\"\n",
    "    map = []\n",
    "\n",
    "    absMax = 0\n",
    "    for pos in posLog:\n",
    "        if abs(pos[0]) > absMax:\n",
    "            absMax = abs(pos[0])\n",
    "        if abs(pos[1]) > absMax:\n",
    "            absMax = abs(pos[1])\n",
    "    size = (absMax * 2) + 1\n",
    "\n",
    "    for _ in range(size):\n",
    "        map.append([])\n",
    "\n",
    "    for row in map:\n",
    "        for i in range(size):\n",
    "            row.append(\"-\")\n",
    "\n",
    "    for pos in posLog:\n",
    "        map[-1*(pos[1]+absMax+1)][pos[0]+absMax] = \"*\"\n",
    "\n",
    "    for row in map:\n",
    "        rStr = \"\"\n",
    "        for c in row:\n",
    "            rStr += str(c)\n",
    "        print(rStr)\n"
   ]
  },
  {
   "cell_type": "code",
   "execution_count": 23,
   "metadata": {},
   "outputs": [
    {
     "name": "stdout",
     "output_type": "stream",
     "text": [
      "--***--\n",
      "--***--\n",
      "---*---\n",
      "---*---\n",
      "-------\n",
      "-------\n",
      "-------\n"
     ]
    }
   ],
   "source": [
    "drawMap(posLog)"
   ]
  },
  {
   "cell_type": "code",
   "execution_count": 24,
   "metadata": {},
   "outputs": [],
   "source": [
    "import math"
   ]
  },
  {
   "cell_type": "code",
   "execution_count": 25,
   "metadata": {},
   "outputs": [],
   "source": [
    "def distance(x1, y1, x2, y2):\n",
    "    return math.sqrt(math.pow(x2 - x1, 2) + math.pow(y2 - y1, 2) * 1.0)"
   ]
  },
  {
   "cell_type": "code",
   "execution_count": 27,
   "metadata": {},
   "outputs": [
    {
     "name": "stdout",
     "output_type": "stream",
     "text": [
      "3.162278\n"
     ]
    }
   ],
   "source": [
    "print (\"%.6f\"%distance(0, 0, 1, 3))"
   ]
  },
  {
   "cell_type": "code",
   "execution_count": null,
   "metadata": {},
   "outputs": [],
   "source": []
  }
 ],
 "metadata": {
  "kernelspec": {
   "display_name": "Python 3",
   "language": "python",
   "name": "python3"
  },
  "language_info": {
   "codemirror_mode": {
    "name": "ipython",
    "version": 3
   },
   "file_extension": ".py",
   "mimetype": "text/x-python",
   "name": "python",
   "nbconvert_exporter": "python",
   "pygments_lexer": "ipython3",
   "version": "3.6.4"
  }
 },
 "nbformat": 4,
 "nbformat_minor": 2
}
