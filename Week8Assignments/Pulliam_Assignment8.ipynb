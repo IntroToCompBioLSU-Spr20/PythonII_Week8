{
 "cells": [
  {
   "cell_type": "markdown",
   "metadata": {},
   "source": [
    "Imports:"
   ]
  },
  {
   "cell_type": "code",
   "execution_count": 1,
   "metadata": {},
   "outputs": [],
   "source": [
    "import random\n",
    "from copy import copy\n",
    "import math\n",
    "import statistics"
   ]
  },
  {
   "cell_type": "markdown",
   "metadata": {},
   "source": [
    "Methods:"
   ]
  },
  {
   "cell_type": "code",
   "execution_count": 2,
   "metadata": {},
   "outputs": [],
   "source": [
    "def simulation(days):\n",
    "    dirs = [\"u\",\"d\",\"l\",\"r\"]\n",
    "    pos = [0,0]\n",
    "    posLog = []\n",
    "\n",
    "    posLog.append(copy(pos))  # go ahead and add first day to log\n",
    "\n",
    "    for _ in range(days):  # Loop over the specified number of days\n",
    "        move = random.choice(dirs) # Randomly draws a direction - u, d, l, or r\n",
    "        if move == 'u':\n",
    "            pos[1] += 1  # change the coordinates in the pos list\n",
    "        elif move == 'd':\n",
    "            pos[1] -= 1\n",
    "        elif move == 'l':\n",
    "            pos[0] -= 1\n",
    "        elif move == 'r':\n",
    "            pos[0] += 1\n",
    "        else:\n",
    "            print(\"Error\")\n",
    "        \n",
    "        posLog.append( copy(pos) )  # add newly changed pos to poslog\n",
    "    \n",
    "    return posLog"
   ]
  },
  {
   "cell_type": "code",
   "execution_count": 3,
   "metadata": {},
   "outputs": [],
   "source": [
    "def drawMap(posLog): \n",
    "    \"\"\"Function to draw an ascii map.\"\"\"\n",
    "    \n",
    "    map = []\n",
    "\n",
    "    absMax = 0\n",
    "    for pos in posLog:\n",
    "        if abs(pos[0]) > absMax:\n",
    "            absMax = abs(pos[0])\n",
    "        if abs(pos[1]) > absMax:\n",
    "            absMax = abs(pos[1])\n",
    "    size = (absMax * 2) + 1\n",
    "\n",
    "    for _ in range(size):\n",
    "        map.append([])\n",
    "\n",
    "    for row in map:\n",
    "        for i in range(size):\n",
    "            row.append(\"-\")\n",
    "\n",
    "    for pos in posLog:\n",
    "        if pos == posLog[0]:\n",
    "            map[-1 * (pos[1] + absMax + 1)][pos[0] + absMax] = \"O\"  # origin\n",
    "        if pos == posLog[-1]:\n",
    "            map[-1*(pos[1]+absMax+1)][pos[0]+absMax] = \"X\"  # final position\n",
    "        else:\n",
    "            map[-1*(pos[1]+absMax+1)][pos[0]+absMax] = \"*\"  # every other one\n",
    "\n",
    "    for row in map:\n",
    "        rStr = \"\"\n",
    "        for c in row:\n",
    "            rStr += str(c)\n",
    "        print(rStr)"
   ]
  },
  {
   "cell_type": "code",
   "execution_count": 4,
   "metadata": {},
   "outputs": [],
   "source": [
    "def calculate_distance(poslog):  # uses the pythagorean theorem to calculate distance of each position\n",
    "    for x in poslog:\n",
    "        a2 = math.pow(x[0],2)\n",
    "        b2 = math.pow(x[1],2)\n",
    "        c2 = a2 + b2\n",
    "        distance = math.sqrt(c2)\n",
    "\n",
    "    return(distance)"
   ]
  },
  {
   "cell_type": "code",
   "execution_count": 5,
   "metadata": {},
   "outputs": [
    {
     "name": "stdout",
     "output_type": "stream",
     "text": [
      "-----------\n",
      "-----------\n",
      "--***------\n",
      "***X**-----\n",
      "*-******---\n",
      "**********-\n",
      "*********--\n",
      "--*--***---\n",
      "-----*-----\n",
      "-----------\n",
      "-----------\n"
     ]
    }
   ],
   "source": [
    "drawMap(simulation(100))  # draw the map for a simulation with 100 days"
   ]
  },
  {
   "cell_type": "markdown",
   "metadata": {},
   "source": [
    "How do the final distances that individuals have moved from where they originally started compare to the number of days they've been moving?"
   ]
  },
  {
   "cell_type": "code",
   "execution_count": 18,
   "metadata": {},
   "outputs": [
    {
     "name": "stdout",
     "output_type": "stream",
     "text": [
      "0 Days: 0.0\n",
      "1 Days: 1.0\n",
      "2 Days: 1.1388225099390856\n",
      "3 Days: 1.5773451516749222\n",
      "4 Days: 1.7191768955169888\n",
      "5 Days: 1.9334703700947145\n",
      "6 Days: 2.252404643306939\n",
      "7 Days: 2.412955220683979\n",
      "8 Days: 2.496940098555226\n",
      "9 Days: 2.6883845921806393\n",
      "10 Days: 2.781381366450008\n"
     ]
    }
   ],
   "source": [
    " # runs the simulation 100 times for each number of days up to 10 and takes average distance of each day\n",
    "\n",
    "days = 10\n",
    "sample_size = 100\n",
    "averagelog = []\n",
    "\n",
    "for i in range(days + 1):  \n",
    "    distances = []\n",
    "    for _ in range(sample_size):  \n",
    "        distances.append(calculate_distance((simulation(i))))\n",
    "        \n",
    "    average = statistics.mean(distances)\n",
    "    averagelog.append(average)\n",
    "    \n",
    "for i in averagelog:\n",
    "    print(averagelog.index(i), \"Days:\", i)"
   ]
  },
  {
   "cell_type": "markdown",
   "metadata": {},
   "source": [
    "On average, as day number increases, distance from origin increases\n"
   ]
  },
  {
   "cell_type": "markdown",
   "metadata": {},
   "source": [
    "What if you collected actual data from your species of interest and their final positions after __10 days__ were represented by the following coordinates. Can the random model of movement explain these data well?\n",
    "\n",
    "- [1,1]\n",
    "- [1,3]\n",
    "- [-1,5]\n",
    "- [2,6]\n",
    "- [1,-1]\n",
    "- [2,4]\n",
    "- [-2,4]\n",
    "- [1,9]\n",
    "- [2,4]\n",
    "- [-2,2]"
   ]
  },
  {
   "cell_type": "code",
   "execution_count": 14,
   "metadata": {},
   "outputs": [],
   "source": [
    "def finalposition():  # gets final position of a 10,000 animals after 10 days\n",
    "    days = 10\n",
    "    sample = 10000\n",
    "    finalpos = []\n",
    "    for _ in range(sample):\n",
    "        finalpos.append(simulation(days + 1)[-1])\n",
    "    \n",
    "    return finalpos\n",
    "    "
   ]
  },
  {
   "cell_type": "code",
   "execution_count": 17,
   "metadata": {},
   "outputs": [
    {
     "name": "stdout",
     "output_type": "stream",
     "text": [
      "X Max:  9 Y Max:  8 \n",
      "\n",
      "Unique: | Count: | Percent:\n",
      "2 | 2427 | 12.135 %\n",
      "-3 | 1541 | 7.704999999999999 %\n",
      "0 | 3376 | 16.88 %\n",
      "-1 | 2989 | 14.945 %\n",
      "-2 | 2311 | 11.555 %\n",
      "3 | 1558 | 7.79 %\n",
      "-6 | 137 | 0.685 %\n",
      "1 | 3101 | 15.504999999999999 %\n",
      "4 | 781 | 3.9050000000000002 %\n",
      "-4 | 813 | 4.0649999999999995 %\n",
      "-5 | 375 | 1.875 %\n",
      "5 | 368 | 1.8399999999999999 %\n",
      "-7 | 43 | 0.215 %\n",
      "6 | 139 | 0.695 %\n",
      "8 | 10 | 0.05 %\n",
      "7 | 24 | 0.12 %\n",
      "-8 | 6 | 0.03 %\n",
      "9 | 1 | 0.005 %\n"
     ]
    }
   ],
   "source": [
    "# give the maximum x and y position after 10,000 trials of 10 days each\n",
    "# gives a list of other positions and percentages that each position occured\n",
    "\n",
    "xmax = 0\n",
    "ymax = 0\n",
    "\n",
    "positions = [] # combines x and y positions in to one list\n",
    "unique = [] # only contains unique positions\n",
    "count = [] # parallel to unique. how many times each unique position occurs\n",
    "\n",
    "sim = finalposition()  # list of final positions\n",
    "total = len(sim)  # length of final position list. used to calculate distances\n",
    "\n",
    "for i in sim:\n",
    "    positions.append(i[0])  # combine positions\n",
    "    positions.append(i[1])\n",
    "    \n",
    "    if abs(i[0]) > xmax:  # get min and max\n",
    "        xmax = abs(i[0])\n",
    "    if abs(i[1]) > ymax:\n",
    "        ymax = i[1]\n",
    "        \n",
    "for i in positions:\n",
    "    if i not in unique:  # get uniques and counts\n",
    "        unique.append(i)\n",
    "        count.append(1)\n",
    "    else:\n",
    "        count[unique.index(i)] += 1\n",
    "        \n",
    "        \n",
    "        \n",
    "print(\"X Max: \", xmax, \"Y Max: \", ymax, \"\\n\")\n",
    "\n",
    "print(\"Unique: | Count: | Percent:\")\n",
    "for i in range(len(unique)):\n",
    "    percent = (count[i]/(total * 2) * 100)  # calculate percentage of total positions (total * 2 because there is x and y)\n",
    "    print(unique[i], \"|\", count[i], \"|\", percent, \"%\")  # print results"
   ]
  },
  {
   "cell_type": "markdown",
   "metadata": {},
   "source": [
    "In 10,000 trials, only one animal, or 0.005% of the trials was able to travel 9 blocks away from the origin in 10 days. This means that it is very unlikely that our random model can explain the data above."
   ]
  }
 ],
 "metadata": {
  "kernelspec": {
   "display_name": "Python 3",
   "language": "python",
   "name": "python3"
  },
  "language_info": {
   "codemirror_mode": {
    "name": "ipython",
    "version": 3
   },
   "file_extension": ".py",
   "mimetype": "text/x-python",
   "name": "python",
   "nbconvert_exporter": "python",
   "pygments_lexer": "ipython3",
   "version": "3.8.1"
  }
 },
 "nbformat": 4,
 "nbformat_minor": 4
}
