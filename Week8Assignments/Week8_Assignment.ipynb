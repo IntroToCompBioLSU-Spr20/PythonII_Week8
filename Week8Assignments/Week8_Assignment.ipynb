{
 "cells": [
  {
   "cell_type": "code",
   "execution_count": 34,
   "metadata": {},
   "outputs": [],
   "source": [
    "import random"
   ]
  },
  {
   "cell_type": "code",
   "execution_count": 35,
   "metadata": {},
   "outputs": [],
   "source": [
    "from copy import copy"
   ]
  },
  {
   "cell_type": "code",
   "execution_count": 36,
   "metadata": {},
   "outputs": [],
   "source": [
    "dirs = [\"u\",\"d\",\"l\",\"r\"]"
   ]
  },
  {
   "cell_type": "code",
   "execution_count": 37,
   "metadata": {},
   "outputs": [],
   "source": [
    "days = 10"
   ]
  },
  {
   "cell_type": "code",
   "execution_count": 38,
   "metadata": {},
   "outputs": [],
   "source": [
    "pos = [0,0]"
   ]
  },
  {
   "cell_type": "code",
   "execution_count": 39,
   "metadata": {},
   "outputs": [],
   "source": [
    "posLog = []"
   ]
  },
  {
   "cell_type": "code",
   "execution_count": 40,
   "metadata": {},
   "outputs": [
    {
     "data": {
      "text/plain": [
       "[[0, 0]]"
      ]
     },
     "execution_count": 40,
     "metadata": {},
     "output_type": "execute_result"
    }
   ],
   "source": [
    "posLog.append( copy(pos) )\n",
    "posLog"
   ]
  },
  {
   "cell_type": "code",
   "execution_count": 41,
   "metadata": {},
   "outputs": [],
   "source": [
    "for num in range(days):  # Loop over the specified number of days\n",
    "    move = random.choice(dirs) # Randomly draws a direction - u, d, l, or r\n",
    "    if move == 'u': # Test what direction was drawn and update position accordingly\n",
    "        pos[1] = pos[1] + 1\n",
    "    elif move == 'd':\n",
    "        pos[1] = pos[1] - 1\n",
    "    elif move == 'l':\n",
    "        pos[0] = pos[0] - 1\n",
    "    elif move == 'r':\n",
    "        pos[0] = pos[0] + 1    \n",
    "    else:\n",
    "        print(\"Something's wrong! Direction is not u, d, l, or r.\")\n",
    "    num = num + 1\n",
    "    posLog.append( copy(pos) )"
   ]
  },
  {
   "cell_type": "code",
   "execution_count": 42,
   "metadata": {},
   "outputs": [],
   "source": [
    "def drawMap(posLog):\n",
    "    \"\"\"Function to draw an ascii map.\"\"\"\n",
    "    \n",
    "    map = []\n",
    "\n",
    "    absMax = 0\n",
    "    for pos in posLog:\n",
    "        if abs(pos[0]) > absMax:\n",
    "            absMax = abs(pos[0])\n",
    "        if abs(pos[1]) > absMax:\n",
    "            absMax = abs(pos[1])\n",
    "    size = (absMax * 2) + 1\n",
    "\n",
    "    for _ in range(size):\n",
    "        map.append([])\n",
    "\n",
    "    for row in map:\n",
    "        for i in range(size):\n",
    "            row.append(\"-\")\n",
    "\n",
    "    for pos in posLog:\n",
    "        map[-1*(pos[1]+absMax+1)][pos[0]+absMax] = \"*\"\n",
    "\n",
    "    for row in map:\n",
    "        rStr = \"\"\n",
    "        for c in row:\n",
    "            rStr += str(c)\n",
    "        print(rStr)"
   ]
  },
  {
   "cell_type": "code",
   "execution_count": 43,
   "metadata": {},
   "outputs": [
    {
     "name": "stdout",
     "output_type": "stream",
     "text": [
      "-------\n",
      "-------\n",
      "----***\n",
      "---***-\n",
      "----**-\n",
      "-----*-\n",
      "-------\n"
     ]
    }
   ],
   "source": [
    "drawMap(posLog)"
   ]
  },
  {
   "cell_type": "code",
   "execution_count": 44,
   "metadata": {},
   "outputs": [
    {
     "data": {
      "text/plain": [
       "[3, 1]"
      ]
     },
     "execution_count": 44,
     "metadata": {},
     "output_type": "execute_result"
    }
   ],
   "source": [
    "posLog[-1]"
   ]
  },
  {
   "cell_type": "code",
   "execution_count": 45,
   "metadata": {},
   "outputs": [
    {
     "data": {
      "text/plain": [
       "[[0, 0],\n",
       " [1, 0],\n",
       " [2, 0],\n",
       " [2, -1],\n",
       " [2, -2],\n",
       " [2, -1],\n",
       " [1, -1],\n",
       " [1, 0],\n",
       " [1, 1],\n",
       " [2, 1],\n",
       " [3, 1]]"
      ]
     },
     "execution_count": 45,
     "metadata": {},
     "output_type": "execute_result"
    }
   ],
   "source": [
    "posLog"
   ]
  },
  {
   "cell_type": "code",
   "execution_count": 46,
   "metadata": {},
   "outputs": [],
   "source": [
    "distance = abs(posLog[-1][0]) + abs(posLog[-1][1])"
   ]
  },
  {
   "cell_type": "code",
   "execution_count": 47,
   "metadata": {},
   "outputs": [
    {
     "data": {
      "text/plain": [
       "4"
      ]
     },
     "execution_count": 47,
     "metadata": {},
     "output_type": "execute_result"
    }
   ],
   "source": [
    "distance"
   ]
  }
 ],
 "metadata": {
  "kernelspec": {
   "display_name": "Python 3",
   "language": "python",
   "name": "python3"
  },
  "language_info": {
   "codemirror_mode": {
    "name": "ipython",
    "version": 3
   },
   "file_extension": ".py",
   "mimetype": "text/x-python",
   "name": "python",
   "nbconvert_exporter": "python",
   "pygments_lexer": "ipython3",
   "version": "3.6.5"
  }
 },
 "nbformat": 4,
 "nbformat_minor": 2
}
